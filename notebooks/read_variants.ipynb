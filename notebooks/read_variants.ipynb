{
 "cells": [
  {
   "cell_type": "markdown",
   "id": "48b7675f-73b8-4255-8994-4ebff49cabe5",
   "metadata": {},
   "source": [
    "# Read parquet file demo\n",
    "This example shows how to reade a subset of columns from the variant.parquet file."
   ]
  },
  {
   "cell_type": "code",
   "execution_count": 1,
   "id": "3b7fc7d0-42bd-4e7f-b423-3af0fb46af00",
   "metadata": {},
   "outputs": [],
   "source": [
    "import pandas as pd"
   ]
  },
  {
   "cell_type": "code",
   "execution_count": 2,
   "id": "61f96aad-1e29-4110-90a3-c87829419a3f",
   "metadata": {},
   "outputs": [],
   "source": [
    "df = pd.read_parquet('../data/variants.parquet', columns=['name','lineage','location','collectionDate'])"
   ]
  },
  {
   "cell_type": "code",
   "execution_count": 3,
   "id": "d02ce520-8142-4559-91ff-720a7ef02af0",
   "metadata": {},
   "outputs": [
    {
     "data": {
      "text/html": [
       "<div>\n",
       "<style scoped>\n",
       "    .dataframe tbody tr th:only-of-type {\n",
       "        vertical-align: middle;\n",
       "    }\n",
       "\n",
       "    .dataframe tbody tr th {\n",
       "        vertical-align: top;\n",
       "    }\n",
       "\n",
       "    .dataframe thead th {\n",
       "        text-align: right;\n",
       "    }\n",
       "</style>\n",
       "<table border=\"1\" class=\"dataframe\">\n",
       "  <thead>\n",
       "    <tr style=\"text-align: right;\">\n",
       "      <th></th>\n",
       "      <th>name</th>\n",
       "      <th>lineage</th>\n",
       "      <th>location</th>\n",
       "      <th>collectionDate</th>\n",
       "    </tr>\n",
       "  </thead>\n",
       "  <tbody>\n",
       "    <tr>\n",
       "      <th>0</th>\n",
       "      <td>BetaCoV/Wuhan/HBCDC-HB-01/2019</td>\n",
       "      <td>B.1.36.10</td>\n",
       "      <td>China / Hubei</td>\n",
       "      <td>2019-12-30</td>\n",
       "    </tr>\n",
       "    <tr>\n",
       "      <th>1</th>\n",
       "      <td>hCoV-19/Thailand/74/2020</td>\n",
       "      <td>B</td>\n",
       "      <td>Thailand/ Nonthaburi Province</td>\n",
       "      <td>2020-01-13</td>\n",
       "    </tr>\n",
       "    <tr>\n",
       "      <th>2</th>\n",
       "      <td>hCoV-19/Thailand/61/2020</td>\n",
       "      <td>B</td>\n",
       "      <td>Thailand/ Nonthaburi Province</td>\n",
       "      <td>2020-01-08</td>\n",
       "    </tr>\n",
       "    <tr>\n",
       "      <th>3</th>\n",
       "      <td>BetaCoV/Wuhan/IVDC-HB-04/2020</td>\n",
       "      <td>B</td>\n",
       "      <td>China / Hubei / Wuhan</td>\n",
       "      <td>2020-01-01</td>\n",
       "    </tr>\n",
       "    <tr>\n",
       "      <th>4</th>\n",
       "      <td>BetaCoV/Wuhan/IVDC-HB-01/2019</td>\n",
       "      <td>B</td>\n",
       "      <td>China / Hubei / Wuhan</td>\n",
       "      <td>2019-12-30</td>\n",
       "    </tr>\n",
       "  </tbody>\n",
       "</table>\n",
       "</div>"
      ],
      "text/plain": [
       "                             name    lineage                       location  \\\n",
       "0  BetaCoV/Wuhan/HBCDC-HB-01/2019  B.1.36.10                  China / Hubei   \n",
       "1        hCoV-19/Thailand/74/2020          B  Thailand/ Nonthaburi Province   \n",
       "2        hCoV-19/Thailand/61/2020          B  Thailand/ Nonthaburi Province   \n",
       "3   BetaCoV/Wuhan/IVDC-HB-04/2020          B          China / Hubei / Wuhan   \n",
       "4   BetaCoV/Wuhan/IVDC-HB-01/2019          B          China / Hubei / Wuhan   \n",
       "\n",
       "  collectionDate  \n",
       "0     2019-12-30  \n",
       "1     2020-01-13  \n",
       "2     2020-01-08  \n",
       "3     2020-01-01  \n",
       "4     2019-12-30  "
      ]
     },
     "execution_count": 3,
     "metadata": {},
     "output_type": "execute_result"
    }
   ],
   "source": [
    "df.head()"
   ]
  },
  {
   "cell_type": "markdown",
   "id": "22b43af8-2e20-4074-96c5-1c5b36d2946f",
   "metadata": {},
   "source": [
    "Get a subset of the data"
   ]
  },
  {
   "cell_type": "code",
   "execution_count": 4,
   "id": "b62910d2-3457-44d3-a7f5-4b422c87d530",
   "metadata": {},
   "outputs": [],
   "source": [
    "df1 = df[df['location'].str.startswith('Mexico')].copy()"
   ]
  },
  {
   "cell_type": "code",
   "execution_count": 5,
   "id": "f4655f01-42d1-4042-9e2b-4b945531273f",
   "metadata": {},
   "outputs": [
    {
     "data": {
      "text/html": [
       "<div>\n",
       "<style scoped>\n",
       "    .dataframe tbody tr th:only-of-type {\n",
       "        vertical-align: middle;\n",
       "    }\n",
       "\n",
       "    .dataframe tbody tr th {\n",
       "        vertical-align: top;\n",
       "    }\n",
       "\n",
       "    .dataframe thead th {\n",
       "        text-align: right;\n",
       "    }\n",
       "</style>\n",
       "<table border=\"1\" class=\"dataframe\">\n",
       "  <thead>\n",
       "    <tr style=\"text-align: right;\">\n",
       "      <th></th>\n",
       "      <th>name</th>\n",
       "      <th>lineage</th>\n",
       "      <th>location</th>\n",
       "      <th>collectionDate</th>\n",
       "    </tr>\n",
       "  </thead>\n",
       "  <tbody>\n",
       "    <tr>\n",
       "      <th>241</th>\n",
       "      <td>hCoV-19/Mexico/CDMX-InDRE_01/2020</td>\n",
       "      <td>B.1.1</td>\n",
       "      <td>Mexico / Mexico City</td>\n",
       "      <td>2020-02-27</td>\n",
       "    </tr>\n",
       "    <tr>\n",
       "      <th>6761</th>\n",
       "      <td>hCoV-19/Mexico/CDMX-INER_01/2020</td>\n",
       "      <td>B.1.234</td>\n",
       "      <td>Mexico / Mexico City</td>\n",
       "      <td>2020-03-12</td>\n",
       "    </tr>\n",
       "    <tr>\n",
       "      <th>6764</th>\n",
       "      <td>hCoV-19/Mexico/CDMX-INER_02/2020</td>\n",
       "      <td>B.1</td>\n",
       "      <td>Mexico / Mexico City</td>\n",
       "      <td>2020-03-13</td>\n",
       "    </tr>\n",
       "    <tr>\n",
       "      <th>7028</th>\n",
       "      <td>hCoV-19/Mexico/CDMX-INER_03/2020</td>\n",
       "      <td>B</td>\n",
       "      <td>Mexico / Mexico City</td>\n",
       "      <td>2020-03-13</td>\n",
       "    </tr>\n",
       "    <tr>\n",
       "      <th>7029</th>\n",
       "      <td>hCoV-19/Mexico/CDMX-INER_04/2020</td>\n",
       "      <td>B.1.201</td>\n",
       "      <td>Mexico / Mexico City</td>\n",
       "      <td>2020-03-15</td>\n",
       "    </tr>\n",
       "  </tbody>\n",
       "</table>\n",
       "</div>"
      ],
      "text/plain": [
       "                                   name  lineage              location  \\\n",
       "241   hCoV-19/Mexico/CDMX-InDRE_01/2020    B.1.1  Mexico / Mexico City   \n",
       "6761   hCoV-19/Mexico/CDMX-INER_01/2020  B.1.234  Mexico / Mexico City   \n",
       "6764   hCoV-19/Mexico/CDMX-INER_02/2020      B.1  Mexico / Mexico City   \n",
       "7028   hCoV-19/Mexico/CDMX-INER_03/2020        B  Mexico / Mexico City   \n",
       "7029   hCoV-19/Mexico/CDMX-INER_04/2020  B.1.201  Mexico / Mexico City   \n",
       "\n",
       "     collectionDate  \n",
       "241      2020-02-27  \n",
       "6761     2020-03-12  \n",
       "6764     2020-03-13  \n",
       "7028     2020-03-13  \n",
       "7029     2020-03-15  "
      ]
     },
     "execution_count": 5,
     "metadata": {},
     "output_type": "execute_result"
    }
   ],
   "source": [
    "df1.shape\n",
    "df1.head()"
   ]
  }
 ],
 "metadata": {
  "kernelspec": {
   "display_name": "Python 3 (ipykernel)",
   "language": "python",
   "name": "python3"
  },
  "language_info": {
   "codemirror_mode": {
    "name": "ipython",
    "version": 3
   },
   "file_extension": ".py",
   "mimetype": "text/x-python",
   "name": "python",
   "nbconvert_exporter": "python",
   "pygments_lexer": "ipython3",
   "version": "3.9.6"
  }
 },
 "nbformat": 4,
 "nbformat_minor": 5
}
